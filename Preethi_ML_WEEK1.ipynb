{
 "cells": [
  {
   "cell_type": "markdown",
   "metadata": {},
   "source": [
    "# QUESTION1"
   ]
  },
  {
   "cell_type": "code",
   "execution_count": 85,
   "metadata": {},
   "outputs": [
    {
     "name": "stdout",
     "output_type": "stream",
     "text": [
      "sorted list [19, 19, 20, 22, 24, 24, 24, 25, 25, 26]\n"
     ]
    }
   ],
   "source": [
    "#QUESTION 1 \n",
    "# i)sorting the list and finding min and max\n",
    "import math\n",
    "#assigning ages to the list named ages\n",
    "ages=[19, 22, 19, 24, 20, 25, 26, 24, 25, 24]\n",
    "ages.sort()#sorting the ages with predefined fucntion called sort()\n",
    "print(\"sorted list\",ages)"
   ]
  },
  {
   "cell_type": "code",
   "execution_count": 86,
   "metadata": {},
   "outputs": [
    {
     "name": "stdout",
     "output_type": "stream",
     "text": [
      "Minimum age is 19 and Maximum age 26\n"
     ]
    },
    {
     "data": {
      "text/plain": [
       "[19, 19, 20, 22, 24, 24, 24, 25, 25, 26, [19, 26]]"
      ]
     },
     "execution_count": 86,
     "metadata": {},
     "output_type": "execute_result"
    }
   ],
   "source": [
    "#ii) Add the min age and the max age again to the list\n",
    "ages=[19, 22, 19, 24, 20, 25, 26, 24, 25, 24]\n",
    "ages.sort()\n",
    "X=ages[0]\n",
    "Y=ages[-1]\n",
    "print(\"Minimum age is\",X,\"and Maximum age\",Y)\n",
    "min_max=[X,Y]\n",
    "ages.append(min_max)\n",
    "ages"
   ]
  },
  {
   "cell_type": "code",
   "execution_count": 88,
   "metadata": {},
   "outputs": [
    {
     "name": "stdout",
     "output_type": "stream",
     "text": [
      "median is : 24.0\n"
     ]
    }
   ],
   "source": [
    "#iii)Find the median age (one middle item or two middle items divided by two)\n",
    "ages=[19, 22, 19, 24, 20, 25, 26, 24, 25, 24]\n",
    "n=len(ages)\n",
    "ages.sort()\n",
    "\n",
    "if n%2==0:\n",
    "    median1=ages[n//2]\n",
    "    median2=ages[n//2-1]\n",
    "    median=(median1+median2)/2\n",
    "    \n",
    "else:\n",
    "    median=ages[n//2]\n",
    "print(\"median is : \" +str(median))    "
   ]
  },
  {
   "cell_type": "code",
   "execution_count": 89,
   "metadata": {},
   "outputs": [
    {
     "name": "stdout",
     "output_type": "stream",
     "text": [
      "average of ages is 22.8\n"
     ]
    }
   ],
   "source": [
    "#iv)Find the average age (sum of all items divided by their number)\n",
    "ages=[19, 22, 19, 24, 20, 25, 26, 24, 25, 24]\n",
    "sum_of_ages=sum(ages)\n",
    "n=len(ages)\n",
    "average= sum_of_ages/n\n",
    "print(\"average of ages is\", average)"
   ]
  },
  {
   "cell_type": "code",
   "execution_count": 90,
   "metadata": {},
   "outputs": [
    {
     "name": "stdout",
     "output_type": "stream",
     "text": [
      "range of ages list is 7\n"
     ]
    }
   ],
   "source": [
    "#v)Find the range of the ages (max minus min)\n",
    "print(\"range of ages list is\",Y-X)"
   ]
  },
  {
   "cell_type": "markdown",
   "metadata": {},
   "source": [
    "# QUESTION 2"
   ]
  },
  {
   "cell_type": "code",
   "execution_count": 92,
   "metadata": {},
   "outputs": [
    {
     "name": "stdout",
     "output_type": "stream",
     "text": [
      "{'Name': '', 'Color': '', 'Breed': '', 'Legs': '', 'Age': ''}\n",
      "{'first_name': 'Preethi', 'last_name': 'Bukka', 'gender': 'female', 'age': 23, 'maritial_status': 'single', 'skills': ['badminton', 'shopping'], 'country': 'india', 'city': 'Hyderabad', 'address': '6550W'}\n",
      "Length of the student 9\n",
      "student skills ['badminton', 'shopping'] <class 'list'>\n",
      "keys dict_keys(['first_name', 'last_name', 'gender', 'age', 'maritial_status', 'skills', 'country', 'city', 'address'])\n",
      "values ['Preethi', 'Bukka', 'female', 23, 'single', ['badminton', 'shopping', 'reading', 'python'], 'india', 'Hyderabad', '6550W']\n"
     ]
    }
   ],
   "source": [
    "#i)Create an empty dictionary called dog\n",
    "dog={}\n",
    "#ii)Add name, color, breed, legs, age to the dog dictionary\n",
    "dog={\"Name\":\"\",\"Color\":\"\",\"Breed\":\"\",\"Legs\":\"\",\"Age\":\"\"} # dictionary has a key and value\n",
    "print(dog)\n",
    "\n",
    "#iii)creating a dictonary\n",
    "student={\"first_name\":\"Preethi\",\"last_name\":\"Bukka\",\"gender\":\"female\",\"age\":23,\"maritial_status\":\"single\",\"skills\":[\"badminton\",\"shopping\"],\"country\":\"india\",\"city\":\"Hyderabad\",\"address\":\"6550W\"}\n",
    "print(student)\n",
    "\n",
    "#iv)Get the length of the student dictionary\n",
    "print(\"Length of the student\",len(student))#using len() \n",
    "\n",
    "#v)Get the value of skills and check the data type, it should be a list\n",
    "print(\"student skills\",student[\"skills\"], type(student[\"skills\"]))#geting the values of particular keys from dictionary \n",
    "\n",
    "#vi)Modify the skills values by adding one or two skills\n",
    "student[\"skills\"]=student[\"skills\"]+[\"reading\",\"python\"]#adding valuesto particular keys to dictionary by using the key\n",
    "\n",
    "#vii)Get the dictionary keys as a list\n",
    "print(\"keys\",student.keys())#keys() return all the keys in a dictionary\n",
    "\n",
    "#viii)Get the dictionary values as a list\n",
    "print(\"values\",list(student.values()))\n"
   ]
  },
  {
   "cell_type": "markdown",
   "metadata": {},
   "source": [
    "# QUESTION 3"
   ]
  },
  {
   "cell_type": "code",
   "execution_count": 93,
   "metadata": {},
   "outputs": [
    {
     "name": "stdout",
     "output_type": "stream",
     "text": [
      "my siblings ('Kiran', 'Sai', 'Nani', 'Pranathi', 'Navya', 'Vidya')\n",
      "i have 6 siblings\n",
      "family members ('Venkat', 'Vani', 'Kiran', 'Sai', 'Nani', 'Pranathi', 'Navya', 'Vidya')\n"
     ]
    }
   ],
   "source": [
    "#creating a tuple and assigning values to it\n",
    "brothers=(\"Kiran\",\"Sai\",\"Nani\")\n",
    "sisters=(\"Pranathi\",\"Navya\",\"Vidya\")\n",
    "siblings=brothers+sisters #using + operator we can join two tuples\n",
    "print(\"my siblings\",siblings)\n",
    "print(\"i have\",len(siblings), \"siblings\")\n",
    "siblings=(\"Venkat\",\"Vani\")+siblings#adding new values to a tuple\n",
    "family_members=siblings\n",
    "print(\"family members\",family_members)"
   ]
  },
  {
   "cell_type": "markdown",
   "metadata": {},
   "source": [
    "# QUESTION 4"
   ]
  },
  {
   "cell_type": "code",
   "execution_count": 96,
   "metadata": {},
   "outputs": [
    {
     "name": "stdout",
     "output_type": "stream",
     "text": [
      "total it companies  7\n",
      "after adding multiple it companies  {'Microsoft', 'Apple', 'Google', 'IBM', 'Accenture', 'Twitter', 'Amazon', 'Oracle', 'Facebook', 'Infosys'}\n",
      "after removing one value  {'Apple', 'Google', 'IBM', 'Accenture', 'Twitter', 'Amazon', 'Oracle', 'Facebook', 'Infosys'}\n",
      "remove methode raises an error when value does'nt exists where as discard methode does'nt raise an error\n",
      "A Union B  {19, 20, 22, 24, 25, 26, 27, 28}\n",
      "A Intersection B  {19, 20, 22, 24, 25, 26}\n",
      "is A is subset of B  True\n",
      "is A and B are disjoint sets  False\n",
      "the symmetric difference between A and B  {27, 28}\n",
      "converted age list to set  {19, 22, 24, 25, 26}\n",
      "difference between length of age list and length of age set is  3\n"
     ]
    }
   ],
   "source": [
    "it_companies = {'Facebook', 'Google', 'Microsoft', 'Apple', 'IBM', 'Oracle', 'Amazon'}\n",
    "A = {19, 22, 24, 20, 25, 26}\n",
    "B = {19, 22, 20, 25, 26, 24, 28, 27}\n",
    "age = [22, 19, 24, 25, 26, 24, 25, 24]\n",
    "\n",
    "#1) Find the length of the set it_companies\n",
    "print(\"total it companies \",len(it_companies))#len() return the length of the set\n",
    "\n",
    "#2)Add 'Twitter' to it_companies\n",
    "it_companies.add(\"Twitter\")#add() is used to add new values to the set\n",
    "\n",
    "#3)Insert multiple IT companies at once to the set it_companies\n",
    "it_companies.update([\"Accenture\",\"Infosys\"])#adding multiple values to the set using update\n",
    "print(\"after adding multiple it companies \",it_companies)\n",
    "\n",
    "#4)Remove one of the companies from the set it_companies\n",
    "it_companies.remove(\"Microsoft\")#remove() removes the value from set if the values exists else it throws error\n",
    "print(\"after removing one value \",it_companies)\n",
    "\n",
    "#5) difference between remove and discard\n",
    "print(\"remove methode raises an error when value does'nt exists where as discard methode does'nt raise an error\")\n",
    "\n",
    "#6)Join A and B\n",
    "C=A.union(B)#union() operation joins two sets\n",
    "print(\"A Union B \", C)\n",
    "\n",
    "#7) Find A intersection B\n",
    "D=A.intersection(B)#intersection() returns the common date from two sets\n",
    "print(\"A Intersection B \",D)\n",
    "\n",
    "#8)Is A subset of B\n",
    "print(\"is A is subset of B \",A.issubset(B))#issubset() return boolean value weather b is subset of a or not\n",
    "\n",
    "#9)Are A and B disjoint sets\n",
    "print(\"is A and B are disjoint sets \",A.isdisjoint(B))#isdisjoint() return boolean value weather b is disjoint sets or not\n",
    "\n",
    "#10)Join A with B and B with A\n",
    "joined_1 = A.union(B)\n",
    "joined_2 = B.union(A)\n",
    "\n",
    "#11)What is the symmetric difference between A and B\n",
    "print(\"the symmetric difference between A and B \",A.symmetric_difference(B))\n",
    "\n",
    "#12)#clear() used for deleting the set\n",
    "A.clear()\n",
    "B.clear()\n",
    "\n",
    "#13)Convert the ages to a set and compare the length of the list and the set.\n",
    "age_set=set(age)#type conversion from list ot set\n",
    "print(\"converted age list to set \",age_set)\n",
    "print(\"difference between length of age list and length of age set is \",len(age)-len(age_set))\n"
   ]
  },
  {
   "cell_type": "markdown",
   "metadata": {},
   "source": [
    "# QUESTION 5"
   ]
  },
  {
   "cell_type": "code",
   "execution_count": 97,
   "metadata": {},
   "outputs": [
    {
     "name": "stdout",
     "output_type": "stream",
     "text": [
      "enter radius30\n",
      "Area of Circle  2826.0\n",
      "Circumference of circle  188.4\n"
     ]
    }
   ],
   "source": [
    "#The radius of a circle is 30 meters.\n",
    "#I)Calculate the area of a circle and assign the value to a variable name of _area_of_circle_\n",
    "radius=int((input(\"enter radius\")))#input() allows dynamic input from the user\n",
    "_area_of_circle_=3.14*(radius**2)#using area of cirlce formula\n",
    "\n",
    "#II)Calculate the circumference of a circle and assign the value to a variable name of _circum_of_circle_\n",
    "_circum_of_circle_=2*3.14*radius\n",
    "print(\"Area of Circle \",_area_of_circle_)\n",
    "print(\"Circumference of circle \",_circum_of_circle_)"
   ]
  },
  {
   "cell_type": "markdown",
   "metadata": {},
   "source": [
    "# QUESTION 6"
   ]
  },
  {
   "cell_type": "code",
   "execution_count": 100,
   "metadata": {},
   "outputs": [
    {
     "name": "stdout",
     "output_type": "stream",
     "text": [
      "No.of unique words are  10\n"
     ]
    }
   ],
   "source": [
    "sentence = \"I am a teacher and I love to inspire and teach people\"\n",
    "unique_letter=set(sentence.split())#Splits a string into a list where each word is a list item\n",
    "print(\"No.of unique words are \",len(unique_letter))"
   ]
  },
  {
   "cell_type": "markdown",
   "metadata": {},
   "source": [
    "# QUESTION 7"
   ]
  },
  {
   "cell_type": "code",
   "execution_count": 103,
   "metadata": {},
   "outputs": [
    {
     "name": "stdout",
     "output_type": "stream",
     "text": [
      "Name\tAge\tCountry\tCity\n",
      "Preethi\t23\tIndia\tHyderabad\n"
     ]
    }
   ],
   "source": [
    "print(\"Name\\tAge\\tCountry\\tCity\\nPreethi\\t23\\tIndia\\tHyderabad\")#using escape sequence \n"
   ]
  },
  {
   "cell_type": "markdown",
   "metadata": {},
   "source": [
    "# QUESTION 8"
   ]
  },
  {
   "cell_type": "code",
   "execution_count": 104,
   "metadata": {},
   "outputs": [
    {
     "name": "stdout",
     "output_type": "stream",
     "text": [
      "The area of a circle with radius 10 is 314.0 meters square.\n"
     ]
    }
   ],
   "source": [
    "#String formating method\n",
    "radius = 10\n",
    "area = 3.14 * radius ** 2\n",
    "print(\"The area of a circle with radius %s is %s meters square.\" %(radius,area))"
   ]
  },
  {
   "cell_type": "markdown",
   "metadata": {},
   "source": [
    "# QUESTION 9"
   ]
  },
  {
   "cell_type": "code",
   "execution_count": 105,
   "metadata": {},
   "outputs": [
    {
     "name": "stdout",
     "output_type": "stream",
     "text": [
      "Enter no of students 4\n",
      "enter weight of 0 150\n",
      "enter weight of 1 155\n",
      "enter weight of 2 145\n",
      "enter weight of 3 148\n",
      "Weights in Lb [150, 155, 145, 148]\n",
      "Weights in Kg [68.04, 70.31, 65.77, 67.13]\n"
     ]
    }
   ],
   "source": [
    "no_of_students=int(input(\"Enter no of students \"))#reading input from the user\n",
    "#creating empty list\n",
    "weights_in_lbs=[]\n",
    "weights_in_kg=[]\n",
    "for stu in range(no_of_students):\n",
    "    weights_in_lbs.append(int(input(\"enter weight of \"+str(stu)+\" \")))#reading user input and appending to the list\n",
    "    weights_in_kg.append(round(weights_in_lbs[stu]*0.453592,2))#using mathmaticle operators coverting lbs to kg \n",
    "print(\"Weights in Lb\",weights_in_lbs)\n",
    "print(\"Weights in Kg\",weights_in_kg)"
   ]
  },
  {
   "cell_type": "code",
   "execution_count": null,
   "metadata": {},
   "outputs": [],
   "source": []
  }
 ],
 "metadata": {
  "kernelspec": {
   "display_name": "Python 3",
   "language": "python",
   "name": "python3"
  },
  "language_info": {
   "codemirror_mode": {
    "name": "ipython",
    "version": 3
   },
   "file_extension": ".py",
   "mimetype": "text/x-python",
   "name": "python",
   "nbconvert_exporter": "python",
   "pygments_lexer": "ipython3",
   "version": "3.8.5"
  }
 },
 "nbformat": 4,
 "nbformat_minor": 4
}
